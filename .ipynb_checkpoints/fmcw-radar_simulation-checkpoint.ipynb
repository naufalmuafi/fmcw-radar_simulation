{
 "cells": [
  {
   "cell_type": "markdown",
   "id": "e299cf93",
   "metadata": {},
   "source": [
    "# Frequency Modulated Continuous Radar (FMCW)\n",
    "## Radar and Navigation\n",
    "### Coding Task\n",
    "\n",
    "---\n",
    "\n",
    "*Developed by:*<br>\n",
    "Naufal Mu'afi - 20/456724/TK/50548<br>\n",
    "Department of Electrical and Information Engineering - UGM<br>\n",
    "naufalmuafi@mail.ugm.ac.id\n",
    "\n",
    "---"
   ]
  },
  {
   "cell_type": "markdown",
   "id": "d1147ba9",
   "metadata": {},
   "source": [
    "First, we import the module that we use later"
   ]
  },
  {
   "cell_type": "code",
   "execution_count": 1,
   "id": "cabe473f",
   "metadata": {},
   "outputs": [],
   "source": [
    "import numpy as np\n",
    "import matplotlib.pyplot as plt"
   ]
  },
  {
   "cell_type": "markdown",
   "id": "1a246c3a",
   "metadata": {},
   "source": [
    "Next, we define all the constant/variable of FMCW Parameters"
   ]
  },
  {
   "cell_type": "code",
   "execution_count": 3,
   "id": "1d4f130c",
   "metadata": {},
   "outputs": [],
   "source": [
    "# Constant\n",
    "c = 3e8\n",
    "\n",
    "# FMCW Signal Parameters\n",
    "fc = 25e6    # Carrier Frequency (Hz)\n",
    "bw = 1e5     # Bandwidth (Hz)\n",
    "fr = 2       # Chirp Frequency (Hz)\n",
    "tr = 1/fr    # Chirp period (Hz)\n",
    "\n",
    "# Time Range\n",
    "ns = 2**10\n",
    "tg = np.linspace(0, 1, ns)  # ns either +1 or not\n",
    "\n",
    "# FMCW Signal Generation (initial condition)\n",
    "st = np.zeros(ns, dtype=complex)  # transmitted signal\n",
    "ft = np.zeros(ns)                 # frequency of transmitted signal"
   ]
  },
  {
   "cell_type": "code",
   "execution_count": null,
   "id": "e3cfa5fa",
   "metadata": {},
   "outputs": [],
   "source": []
  }
 ],
 "metadata": {
  "kernelspec": {
   "display_name": "Python 3 (ipykernel)",
   "language": "python",
   "name": "python3"
  },
  "language_info": {
   "codemirror_mode": {
    "name": "ipython",
    "version": 3
   },
   "file_extension": ".py",
   "mimetype": "text/x-python",
   "name": "python",
   "nbconvert_exporter": "python",
   "pygments_lexer": "ipython3",
   "version": "3.10.7"
  }
 },
 "nbformat": 4,
 "nbformat_minor": 5
}
