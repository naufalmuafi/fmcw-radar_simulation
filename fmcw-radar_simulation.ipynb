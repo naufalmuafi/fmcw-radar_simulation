{
 "cells": [
  {
   "cell_type": "markdown",
   "id": "3ce90116",
   "metadata": {},
   "source": [
    "# Frequency Modulated Continuous Radar (FMCW)\n",
    "## Radar and Navigation\n",
    "### Coding Task\n",
    "\n",
    "---\n",
    "\n",
    "*Developed by:*<br>\n",
    "Naufal Mu'afi - 20/456724/TK/50548<br>\n",
    "Department of Electrical and Information Engineering - UGM<br>\n",
    "naufalmuafi@mail.ugm.ac.id"
   ]
  },
  {
   "cell_type": "code",
   "execution_count": null,
   "id": "77252265",
   "metadata": {},
   "outputs": [],
   "source": []
  }
 ],
 "metadata": {
  "kernelspec": {
   "display_name": "Python 3 (ipykernel)",
   "language": "python",
   "name": "python3"
  },
  "language_info": {
   "codemirror_mode": {
    "name": "ipython",
    "version": 3
   },
   "file_extension": ".py",
   "mimetype": "text/x-python",
   "name": "python",
   "nbconvert_exporter": "python",
   "pygments_lexer": "ipython3",
   "version": "3.10.7"
  }
 },
 "nbformat": 4,
 "nbformat_minor": 5
}
